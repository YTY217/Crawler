{
 "cells": [
  {
   "cell_type": "code",
   "execution_count": null,
   "metadata": {},
   "outputs": [],
   "source": [
    "# Update Database\n",
    "\n",
    "from selenium import webdriver\n",
    "from selenium.common.exceptions import StaleElementReferenceException\n",
    "import time\n",
    "import pandas as pd\n",
    "import numpy as np\n",
    "from selenium.webdriver.support.ui import Select\n",
    "# crawler\n",
    "\n",
    "driver = webdriver.Chrome()\n",
    "driver.get(\"https://www.twse.com.tw/zh/page/trading/exchange/MI_INDEX.html\")\n",
    "#證交所首頁/交易資訊/盤後資訊/每日行情\n",
    "\n",
    "#select the report we want\n",
    "year = '2017'\n",
    "month = '3'\n",
    "date = '14'\n",
    "Stype = \"ALL\" \n",
    "selectYY = Select(driver.find_element_by_xpath(\"//select[@name = 'yy']\"))\n",
    "selectYY.select_by_value(year)\n",
    "selectMM = Select(driver.find_element_by_xpath(\"//select[@name = 'mm']\"))\n",
    "selectMM.select_by_value(month)\n",
    "selectDD = Select(driver.find_element_by_xpath(\"//select[@name = 'dd']\"))\n",
    "selectDD.select_by_value(date)\n",
    "selectType = Select(driver.find_element_by_xpath(\"//select[@name = 'type']\"))\n",
    "selectType.select_by_value(Stype)\n",
    "\n",
    "buttom = driver.find_element_by_xpath(\"//a[@class = 'button search']\")\n",
    "buttom.click()\n",
    "buttom = driver.find_element_by_xpath(\"//a[@class = 'button search']\")\n",
    "buttom.click()\n",
    "# wait for re-direction\n",
    "time.sleep(3)\n",
    "selectLength = Select(driver.find_element_by_xpath(\"//select[@name = 'report-table9_length']\"))\n",
    "selectLength.select_by_value('-1') # -1 = all\n",
    "time.sleep(5)\n",
    "# get the data we want on this web page\n",
    "info = driver.find_elements_by_xpath(\"//table[@id = 'report-table9']\")\n",
    "# turn the data structure into list and then into dataframe\n",
    "for i in info:\n",
    "    s = i.text.split('\\n')\n",
    "    print(s)\n",
    "    \n",
    "\n",
    "\n",
    "driver.close()\n"
   ]
  }
 ],
 "metadata": {
  "kernelspec": {
   "display_name": "Python 3",
   "language": "python",
   "name": "python3"
  },
  "language_info": {
   "codemirror_mode": {
    "name": "ipython",
    "version": 3
   },
   "file_extension": ".py",
   "mimetype": "text/x-python",
   "name": "python",
   "nbconvert_exporter": "python",
   "pygments_lexer": "ipython3",
   "version": "3.7.3"
  }
 },
 "nbformat": 4,
 "nbformat_minor": 2
}
